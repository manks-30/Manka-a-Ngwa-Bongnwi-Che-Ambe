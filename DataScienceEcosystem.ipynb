{
 "cells": [
  {
   "cell_type": "markdown",
   "id": "14ab9c70",
   "metadata": {},
   "source": [
    "# Data Science Tools and Ecosystem"
   ]
  },
  {
   "cell_type": "markdown",
   "id": "4fa03473",
   "metadata": {},
   "source": [
    "### In this notebook, Data Science Tools and Ecosystems are surmarized."
   ]
  },
  {
   "cell_type": "markdown",
   "id": "a53b3322",
   "metadata": {},
   "source": [
    "### **Objectives**:\n",
    "* Some popular languages used by Data Scientist\n",
    "* Some common libraries use by Data Scientist\n",
    "* Some Data Science tools\n",
    "* Some examples of evaluating arithmetic expressions in Python. \n",
    "    * addition\n",
    "    * multiplication\n",
    "    * division"
   ]
  },
  {
   "cell_type": "markdown",
   "id": "18c932bd",
   "metadata": {},
   "source": [
    "#### Some of the popular languages that Data Scientists use are:\n",
    "1. Python\n",
    "2. R\n",
    "3. SQL\n",
    "4. Julia"
   ]
  },
  {
   "cell_type": "markdown",
   "id": "d6f02bb3",
   "metadata": {},
   "source": [
    "#### Some of the commonly used libraries used by Data Scientist include:\n",
    "* NumPy\n",
    "* Pandas\n",
    "* Matplotlib\n",
    "* TensorFlow"
   ]
  },
  {
   "cell_type": "markdown",
   "id": "632affd2",
   "metadata": {},
   "source": [
    "| Data Science Tools |\n",
    "| ------------------ |\n",
    "| R Studio |\n",
    "| Apache Spark |\n",
    "| TensorFlow |\n",
    "| Apache Hadoop |"
   ]
  },
  {
   "cell_type": "markdown",
   "id": "e2fdd81c",
   "metadata": {},
   "source": [
    "### Below are a few examples of evaluating arithmetic expressions in Python."
   ]
  },
  {
   "cell_type": "code",
   "execution_count": 5,
   "id": "cd2a2736",
   "metadata": {},
   "outputs": [
    {
     "data": {
      "text/plain": [
       "17"
      ]
     },
     "execution_count": 5,
     "metadata": {},
     "output_type": "execute_result"
    }
   ],
   "source": [
    "\"This is a simple arithmetic expression to multiply then add integers\"\n",
    "(3*4)+5 "
   ]
  },
  {
   "cell_type": "code",
   "execution_count": 6,
   "id": "9d2585f8",
   "metadata": {},
   "outputs": [
    {
     "data": {
      "text/plain": [
       "3.3333333333333335"
      ]
     },
     "execution_count": 6,
     "metadata": {},
     "output_type": "execute_result"
    }
   ],
   "source": [
    "\"This will convert 200 minutes to hours by dividing by 60\"\n",
    "200/60"
   ]
  },
  {
   "cell_type": "markdown",
   "id": "6d4ac06b",
   "metadata": {},
   "source": [
    "## Author\n",
    "Manka'a Ngwa Bongnwi Che-Ambe"
   ]
  },
  {
   "cell_type": "code",
   "execution_count": null,
   "id": "097d44e5",
   "metadata": {},
   "outputs": [],
   "source": []
  }
 ],
 "metadata": {
  "kernelspec": {
   "display_name": "Python 3 (ipykernel)",
   "language": "python",
   "name": "python3"
  },
  "language_info": {
   "codemirror_mode": {
    "name": "ipython",
    "version": 3
   },
   "file_extension": ".py",
   "mimetype": "text/x-python",
   "name": "python",
   "nbconvert_exporter": "python",
   "pygments_lexer": "ipython3",
   "version": "3.11.5"
  }
 },
 "nbformat": 4,
 "nbformat_minor": 5
}
